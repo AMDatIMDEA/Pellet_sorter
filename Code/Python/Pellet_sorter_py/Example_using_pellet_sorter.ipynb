{
 "cells": [
  {
   "cell_type": "markdown",
   "id": "19e38f5e-e176-41e1-bbe5-f5a8ba3a93cb",
   "metadata": {
    "tags": [],
    "toc-hr-collapsed": true
   },
   "source": [
    "# Example using pellet sorter\n",
    "\n",
    "This notebook contains an example of how to run the code for collecting the material. Most cells can be run without any modification if the collector has been built without design modifications. The lines that need modifications are markedlike this:\n",
    "\n",
    "`###############################################################################################################`\n"
   ]
  },
  {
   "cell_type": "code",
   "execution_count": null,
   "id": "1d69f4e7-b199-45a2-80d9-b7098a7648af",
   "metadata": {},
   "outputs": [],
   "source": [
    "# Import Libraries\n",
    "import serial\n",
    "import numpy as np\n",
    "import time\n",
    "import os\n",
    "import serial.tools.list_ports"
   ]
  },
  {
   "cell_type": "markdown",
   "id": "f081979b-8b2c-4d96-9bfe-04dcdac16372",
   "metadata": {},
   "source": [
    "In this cell, we define the port name for the arduino and the balance. We do it by listing the connected ports and selecting the ones whose device serial is the corresponding to our device. You should find the serial of your devices and change it accordingly. You can do it by inspecting the devices detected by serial.tools.list_ports.comports(). In case of doubt, try disconnecting and connecting to see which ports are affected."
   ]
  },
  {
   "cell_type": "code",
   "execution_count": null,
   "id": "b82084df-b333-4aaa-88f8-334ee537c9c9",
   "metadata": {
    "tags": []
   },
   "outputs": [],
   "source": [
    "ports = serial.tools.list_ports.comports()\n",
    "\n",
    "###############################################################################################################\n",
    "\n",
    "arduino_serial = \"write_here_your_arduino_serial\"\n",
    "balance_serial = \"write_here_your_balance_serial\"\n",
    "\n",
    "###############################################################################################################\n",
    "\n",
    "for port in ports:\n",
    "    if port.serial_number == arduino_serial:\n",
    "        arduino_port = port.device\n",
    "    elif port.serial_number == balance_serial:\n",
    "        balance_port = port.device\n",
    "        \n",
    "### Serial initialization\n",
    "## Arduino\n",
    "arduino = serial.Serial(arduino_port, 9600)\n",
    "## Balance\n",
    "balance = serial.Serial(balance_port, 9600)"
   ]
  },
  {
   "cell_type": "markdown",
   "id": "ea865003-6e50-4c00-bc6a-42515e340794",
   "metadata": {},
   "source": [
    "We import the functions from the pellet_sorter.py script. Note: you need to install the `ikpy` library"
   ]
  },
  {
   "cell_type": "code",
   "execution_count": null,
   "id": "3c6928a7-0a55-4c9a-874c-23846b2c5700",
   "metadata": {
    "tags": []
   },
   "outputs": [],
   "source": [
    "import pellet_sorter as ps"
   ]
  },
  {
   "cell_type": "markdown",
   "id": "2ff30808-4e27-4caa-95a7-064b3281fb2d",
   "metadata": {},
   "source": [
    "Define the capacity of the cup in kg"
   ]
  },
  {
   "cell_type": "code",
   "execution_count": null,
   "id": "4c541ce3-2520-41d0-95a9-04e4375af43c",
   "metadata": {},
   "outputs": [],
   "source": [
    "###############################################################################################################\n",
    "cup_capacity = 0.16\n",
    "###############################################################################################################"
   ]
  },
  {
   "cell_type": "markdown",
   "id": "e35d4280-3f85-418d-8fd9-f369e0b78080",
   "metadata": {},
   "source": [
    "The next cell defines a series of parameters needed for the calculations. They don't have to be modified unless you have modified something in the design."
   ]
  },
  {
   "cell_type": "code",
   "execution_count": null,
   "id": "a68ab2e7-9c1c-4c00-8168-6efa344e02e0",
   "metadata": {
    "tags": []
   },
   "outputs": [],
   "source": [
    "### Initializations\n",
    "# sorter_chain, sorter_parameters and arduino should be global variables\n",
    "\n",
    "n_joints = 2\n",
    "sorter_parameters = [{'steps_in_rotation':0,'gear_ratio':0,'length_mm':0,'bound_rad':0, 'cartesian':[0,0]} for k in range(n_joints)]\n",
    "## Top\n",
    "sorter_parameters[0]['steps_in_rotation'] = np.round(200*1.1)   # Calibrate multiplicative factor to compensate lost steps if necessary\n",
    "sorter_parameters[0]['gear_ratio'] = 6\n",
    "sorter_parameters[0]['length_mm'] = 180.5\n",
    "sorter_parameters[0]['bound_rad'] = np.deg2rad(35)    # np.deg2rad(35)  # IK Rotation bound in either direction, not total\n",
    "sorter_parameters[0]['cartesian'] = [sorter_parameters[0].get('length_mm'), 0]\n",
    "## Bot\n",
    "sorter_parameters[1]['steps_in_rotation'] = 812\n",
    "sorter_parameters[1]['gear_ratio'] = 2.4\n",
    "sorter_parameters[1]['length_mm'] = np.sqrt(32.7**2 + 79.2**2)  # 84.4\n",
    "sorter_parameters[1]['bound_rad'] = np.deg2rad(10*360)\n",
    "sorter_parameters[1]['cartesian'] = [sorter_parameters[1].get('length_mm'), 0]\n",
    "\n",
    "\n",
    "\n",
    "\n",
    "\n",
    "# Positions of the cups in the tray\n",
    "\n",
    "tray_1 = ps.Tray('1', [sorter_parameters[0]['length_mm'], 0], [\n",
    "    ps.Slot([79.2,32.7]),\n",
    "    ps.Slot([32.7,79.2]),\n",
    "    ps.Slot([-32.7,79.2]),\n",
    "    ps.Slot([-79.2,32.7]),\n",
    "    ps.Slot([-79.2,-32.7]),\n",
    "    ps.Slot([-32.7,-79.2]),\n",
    "    ps.Slot([32.7,-79.2]),\n",
    "    ps.Slot([79.2,-32.7]),\n",
    "    ps.Slot([0,0]), \n",
    "    ])\n",
    "\n",
    "tray_1.fill_all_slots_ez(0, cup_capacity)\n",
    "tray_1.set_all_material('PLA####')"
   ]
  },
  {
   "cell_type": "markdown",
   "id": "dfc6c2ac-5daa-4422-93b6-80a30d0dc5e3",
   "metadata": {},
   "source": [
    "In the next cell, we use the Arduino Command Line Interface (arduino-cli) to compile and upload the arduino script. If you prefer to do it using the Graphical User Interface, skip this cell. For using it, update the location of your arduino-cli"
   ]
  },
  {
   "cell_type": "code",
   "execution_count": null,
   "id": "344f84b8-970c-4ba8-9676-7b3b308142be",
   "metadata": {
    "tags": []
   },
   "outputs": [],
   "source": [
    "###############################################################################################################\n",
    "\n",
    "os.system(\"/PATH/arduino-cli compile --fqbn arduino:avr:uno ../../Arduino/Pellet_sorter_v2/Pellet_sorter_v2.ino\")\n",
    "os.system(\"/PATH/arduino-cli upload -p \"+arduino_port+\" --fqbn arduino:avr:uno ../../Arduino/Pellet_sorter_v2/Pellet_sorter_v2.ino\")\n",
    "\n",
    "###############################################################################################################"
   ]
  },
  {
   "cell_type": "markdown",
   "id": "b76fca03-62a1-4394-9a13-3dcbc95e1d4f",
   "metadata": {},
   "source": [
    "The `fill_tray` function will run all the process. It uses the objects defined in the previous steps. The three parameters that allow interesting customization are: \n",
    "\n",
    "`:param seq: List with the order of filling of the cups. If None, they will all be filled in default order`\n",
    "\n",
    "`:param purge_slot: Number of the slot used for purging. This slot can be left without cup so the material is discarded. Used when changing material. If None, no purging will be done.`\n",
    "                        \n",
    "`:param purge_time: Time for purge in minutes. Default: 0`\n",
    "\n",
    "If `seq = None` and `purge_slot = None`, the cups will be filled sequentially (from 0 to 8) without any purging.\n",
    "\n",
    "If `purge_slot` is not None, like `purge_slot = 0` for example, that hole will be used for purging. That hole should be left empty (without cup), and the tray should be in some kind of box or container so the pellets are not spilled everywhere. In that case, if seq is None the  purging will be made after each cup, so the cup 1 will be filled, then purge, then cup 2, then purge, etc.\n",
    "\n",
    "For more detailed control, you can use `seq`. For example, if you want cups 1 and 2 filled with one material and cups 3 and 4 with another, you can use `purge_slot = 0` and `seq = [1,2,0,3,4,0]`. In this way, after filling cups 1 and 2 with the same material it will make a purge in slot 0, and the fill cups 3 and 4. \n"
   ]
  },
  {
   "cell_type": "code",
   "execution_count": null,
   "id": "c45eef8b-e721-4868-a3fc-e8b8e844b95a",
   "metadata": {
    "tags": []
   },
   "outputs": [],
   "source": [
    "##################################################################################################################\n",
    "\n",
    "ps.fill_tray(tray_1, sorter_parameters, arduino, balance, seq = None, purge_slot = 0, purge_time = 1)\n",
    "\n",
    "###############################################################################################################"
   ]
  },
  {
   "cell_type": "markdown",
   "id": "391da3ff-5614-4f19-b5ab-da1dc9a2c451",
   "metadata": {},
   "source": [
    "NOTE: As an alternative, you can use `fill_tray_SIMULATED` to check if the filling order is the desired"
   ]
  },
  {
   "cell_type": "code",
   "execution_count": null,
   "id": "6d6d6e36-af2d-4eb7-b45d-e25b097335db",
   "metadata": {},
   "outputs": [],
   "source": [
    "\n",
    "ps.fill_tray_SIMULATED(tray_1, sorter_parameters, seq = None, purge_slot = 7, purge_time = 1)"
   ]
  },
  {
   "cell_type": "code",
   "execution_count": null,
   "id": "286d6bd8-e0ae-4699-9c65-ab9fb57dc871",
   "metadata": {},
   "outputs": [],
   "source": []
  }
 ],
 "metadata": {
  "kernelspec": {
   "display_name": "Python 3 (ipykernel)",
   "language": "python",
   "name": "python3"
  },
  "language_info": {
   "codemirror_mode": {
    "name": "ipython",
    "version": 3
   },
   "file_extension": ".py",
   "mimetype": "text/x-python",
   "name": "python",
   "nbconvert_exporter": "python",
   "pygments_lexer": "ipython3",
   "version": "3.8.16"
  }
 },
 "nbformat": 4,
 "nbformat_minor": 5
}
